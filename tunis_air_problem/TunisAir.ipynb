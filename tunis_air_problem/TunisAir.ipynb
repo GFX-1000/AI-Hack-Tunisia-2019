{
 "cells": [
  {
   "cell_type": "code",
   "execution_count": 1,
   "metadata": {},
   "outputs": [],
   "source": [
    "import pandas as pd\n",
    "import numpy as np\n",
    "import matplotlib.pyplot as plt\n",
    "import seaborn as sns"
   ]
  },
  {
   "cell_type": "code",
   "execution_count": 301,
   "metadata": {},
   "outputs": [],
   "source": [
    "train = pd.read_csv('Train.csv')\n",
    "test = pd.read_csv('Test.csv')"
   ]
  },
  {
   "cell_type": "code",
   "execution_count": 302,
   "metadata": {},
   "outputs": [
    {
     "data": {
      "text/html": [
       "<div>\n",
       "<style scoped>\n",
       "    .dataframe tbody tr th:only-of-type {\n",
       "        vertical-align: middle;\n",
       "    }\n",
       "\n",
       "    .dataframe tbody tr th {\n",
       "        vertical-align: top;\n",
       "    }\n",
       "\n",
       "    .dataframe thead th {\n",
       "        text-align: right;\n",
       "    }\n",
       "</style>\n",
       "<table border=\"1\" class=\"dataframe\">\n",
       "  <thead>\n",
       "    <tr style=\"text-align: right;\">\n",
       "      <th></th>\n",
       "      <th>ID</th>\n",
       "      <th>DATOP</th>\n",
       "      <th>FLTID</th>\n",
       "      <th>DEPSTN</th>\n",
       "      <th>ARRSTN</th>\n",
       "      <th>STD</th>\n",
       "      <th>STA</th>\n",
       "      <th>STATUS</th>\n",
       "      <th>AC</th>\n",
       "      <th>target</th>\n",
       "    </tr>\n",
       "  </thead>\n",
       "  <tbody>\n",
       "    <tr>\n",
       "      <td>0</td>\n",
       "      <td>train_id_0</td>\n",
       "      <td>2016-01-03</td>\n",
       "      <td>TU 0712</td>\n",
       "      <td>CMN</td>\n",
       "      <td>TUN</td>\n",
       "      <td>2016-01-03 10:30:00</td>\n",
       "      <td>2016-01-03 12.55.00</td>\n",
       "      <td>ATA</td>\n",
       "      <td>TU 32AIMN</td>\n",
       "      <td>260.0</td>\n",
       "    </tr>\n",
       "    <tr>\n",
       "      <td>1</td>\n",
       "      <td>train_id_1</td>\n",
       "      <td>2016-01-13</td>\n",
       "      <td>TU 0757</td>\n",
       "      <td>MXP</td>\n",
       "      <td>TUN</td>\n",
       "      <td>2016-01-13 15:05:00</td>\n",
       "      <td>2016-01-13 16.55.00</td>\n",
       "      <td>ATA</td>\n",
       "      <td>TU 31BIMO</td>\n",
       "      <td>20.0</td>\n",
       "    </tr>\n",
       "    <tr>\n",
       "      <td>2</td>\n",
       "      <td>train_id_2</td>\n",
       "      <td>2016-01-16</td>\n",
       "      <td>TU 0214</td>\n",
       "      <td>TUN</td>\n",
       "      <td>IST</td>\n",
       "      <td>2016-01-16 04:10:00</td>\n",
       "      <td>2016-01-16 06.45.00</td>\n",
       "      <td>ATA</td>\n",
       "      <td>TU 32AIMN</td>\n",
       "      <td>0.0</td>\n",
       "    </tr>\n",
       "    <tr>\n",
       "      <td>3</td>\n",
       "      <td>train_id_3</td>\n",
       "      <td>2016-01-17</td>\n",
       "      <td>TU 0480</td>\n",
       "      <td>DJE</td>\n",
       "      <td>NTE</td>\n",
       "      <td>2016-01-17 14:10:00</td>\n",
       "      <td>2016-01-17 17.00.00</td>\n",
       "      <td>ATA</td>\n",
       "      <td>TU 736IOK</td>\n",
       "      <td>0.0</td>\n",
       "    </tr>\n",
       "    <tr>\n",
       "      <td>4</td>\n",
       "      <td>train_id_4</td>\n",
       "      <td>2016-01-17</td>\n",
       "      <td>TU 0338</td>\n",
       "      <td>TUN</td>\n",
       "      <td>ALG</td>\n",
       "      <td>2016-01-17 14:30:00</td>\n",
       "      <td>2016-01-17 15.50.00</td>\n",
       "      <td>ATA</td>\n",
       "      <td>TU 320IMU</td>\n",
       "      <td>22.0</td>\n",
       "    </tr>\n",
       "  </tbody>\n",
       "</table>\n",
       "</div>"
      ],
      "text/plain": [
       "           ID       DATOP     FLTID DEPSTN ARRSTN                  STD  \\\n",
       "0  train_id_0  2016-01-03  TU 0712     CMN    TUN  2016-01-03 10:30:00   \n",
       "1  train_id_1  2016-01-13  TU 0757     MXP    TUN  2016-01-13 15:05:00   \n",
       "2  train_id_2  2016-01-16  TU 0214     TUN    IST  2016-01-16 04:10:00   \n",
       "3  train_id_3  2016-01-17  TU 0480     DJE    NTE  2016-01-17 14:10:00   \n",
       "4  train_id_4  2016-01-17  TU 0338     TUN    ALG  2016-01-17 14:30:00   \n",
       "\n",
       "                   STA STATUS         AC  target  \n",
       "0  2016-01-03 12.55.00    ATA  TU 32AIMN   260.0  \n",
       "1  2016-01-13 16.55.00    ATA  TU 31BIMO    20.0  \n",
       "2  2016-01-16 06.45.00    ATA  TU 32AIMN     0.0  \n",
       "3  2016-01-17 17.00.00    ATA  TU 736IOK     0.0  \n",
       "4  2016-01-17 15.50.00    ATA  TU 320IMU    22.0  "
      ]
     },
     "execution_count": 302,
     "metadata": {},
     "output_type": "execute_result"
    }
   ],
   "source": [
    "train.head()"
   ]
  },
  {
   "cell_type": "code",
   "execution_count": 303,
   "metadata": {},
   "outputs": [
    {
     "data": {
      "text/html": [
       "<div>\n",
       "<style scoped>\n",
       "    .dataframe tbody tr th:only-of-type {\n",
       "        vertical-align: middle;\n",
       "    }\n",
       "\n",
       "    .dataframe tbody tr th {\n",
       "        vertical-align: top;\n",
       "    }\n",
       "\n",
       "    .dataframe thead th {\n",
       "        text-align: right;\n",
       "    }\n",
       "</style>\n",
       "<table border=\"1\" class=\"dataframe\">\n",
       "  <thead>\n",
       "    <tr style=\"text-align: right;\">\n",
       "      <th></th>\n",
       "      <th>ID</th>\n",
       "      <th>DATOP</th>\n",
       "      <th>FLTID</th>\n",
       "      <th>DEPSTN</th>\n",
       "      <th>ARRSTN</th>\n",
       "      <th>STD</th>\n",
       "      <th>STA</th>\n",
       "      <th>STATUS</th>\n",
       "      <th>AC</th>\n",
       "    </tr>\n",
       "  </thead>\n",
       "  <tbody>\n",
       "    <tr>\n",
       "      <td>0</td>\n",
       "      <td>test_id_0</td>\n",
       "      <td>2016-05-04</td>\n",
       "      <td>TU 0700</td>\n",
       "      <td>DJE</td>\n",
       "      <td>TUN</td>\n",
       "      <td>2016-05-04 06:40:00</td>\n",
       "      <td>2016-05-04 07.30.00</td>\n",
       "      <td>ATA</td>\n",
       "      <td>TU 32AIMF</td>\n",
       "    </tr>\n",
       "    <tr>\n",
       "      <td>1</td>\n",
       "      <td>test_id_1</td>\n",
       "      <td>2016-05-05</td>\n",
       "      <td>TU 0395</td>\n",
       "      <td>TUN</td>\n",
       "      <td>BKO</td>\n",
       "      <td>2016-05-05 15:20:00</td>\n",
       "      <td>2016-05-05 20.05.00</td>\n",
       "      <td>ATA</td>\n",
       "      <td>TU 320IMW</td>\n",
       "    </tr>\n",
       "    <tr>\n",
       "      <td>2</td>\n",
       "      <td>test_id_2</td>\n",
       "      <td>2016-05-06</td>\n",
       "      <td>TU 0745</td>\n",
       "      <td>FRA</td>\n",
       "      <td>TUN</td>\n",
       "      <td>2016-05-06 10:00:00</td>\n",
       "      <td>2016-05-06 12.25.00</td>\n",
       "      <td>ATA</td>\n",
       "      <td>TU 32AIMC</td>\n",
       "    </tr>\n",
       "    <tr>\n",
       "      <td>3</td>\n",
       "      <td>test_id_3</td>\n",
       "      <td>2016-05-11</td>\n",
       "      <td>TU 0848</td>\n",
       "      <td>BEY</td>\n",
       "      <td>TUN</td>\n",
       "      <td>2016-05-11 09:40:00</td>\n",
       "      <td>2016-05-11 13.10.00</td>\n",
       "      <td>ATA</td>\n",
       "      <td>TU 31BIMO</td>\n",
       "    </tr>\n",
       "    <tr>\n",
       "      <td>4</td>\n",
       "      <td>test_id_4</td>\n",
       "      <td>2016-05-11</td>\n",
       "      <td>TU 0635</td>\n",
       "      <td>ORY</td>\n",
       "      <td>MIR</td>\n",
       "      <td>2016-05-11 09:50:00</td>\n",
       "      <td>2016-05-11 12.35.00</td>\n",
       "      <td>ATA</td>\n",
       "      <td>TU 736IOQ</td>\n",
       "    </tr>\n",
       "  </tbody>\n",
       "</table>\n",
       "</div>"
      ],
      "text/plain": [
       "          ID       DATOP     FLTID DEPSTN ARRSTN                  STD  \\\n",
       "0  test_id_0  2016-05-04  TU 0700     DJE    TUN  2016-05-04 06:40:00   \n",
       "1  test_id_1  2016-05-05  TU 0395     TUN    BKO  2016-05-05 15:20:00   \n",
       "2  test_id_2  2016-05-06  TU 0745     FRA    TUN  2016-05-06 10:00:00   \n",
       "3  test_id_3  2016-05-11  TU 0848     BEY    TUN  2016-05-11 09:40:00   \n",
       "4  test_id_4  2016-05-11  TU 0635     ORY    MIR  2016-05-11 09:50:00   \n",
       "\n",
       "                   STA STATUS         AC  \n",
       "0  2016-05-04 07.30.00    ATA  TU 32AIMF  \n",
       "1  2016-05-05 20.05.00    ATA  TU 320IMW  \n",
       "2  2016-05-06 12.25.00    ATA  TU 32AIMC  \n",
       "3  2016-05-11 13.10.00    ATA  TU 31BIMO  \n",
       "4  2016-05-11 12.35.00    ATA  TU 736IOQ  "
      ]
     },
     "execution_count": 303,
     "metadata": {},
     "output_type": "execute_result"
    }
   ],
   "source": [
    "test.head()"
   ]
  },
  {
   "cell_type": "code",
   "execution_count": 304,
   "metadata": {},
   "outputs": [
    {
     "name": "stdout",
     "output_type": "stream",
     "text": [
      "<class 'pandas.core.frame.DataFrame'>\n",
      "RangeIndex: 107833 entries, 0 to 107832\n",
      "Data columns (total 10 columns):\n",
      "ID        107833 non-null object\n",
      "DATOP     107833 non-null object\n",
      "FLTID     107833 non-null object\n",
      "DEPSTN    107833 non-null object\n",
      "ARRSTN    107833 non-null object\n",
      "STD       107833 non-null object\n",
      "STA       107833 non-null object\n",
      "STATUS    107833 non-null object\n",
      "AC        107833 non-null object\n",
      "target    107833 non-null float64\n",
      "dtypes: float64(1), object(9)\n",
      "memory usage: 8.2+ MB\n"
     ]
    }
   ],
   "source": [
    "train.info()"
   ]
  },
  {
   "cell_type": "code",
   "execution_count": 305,
   "metadata": {},
   "outputs": [],
   "source": [
    "def points(row):\n",
    "    return row.replace(\".\" , \":\")"
   ]
  },
  {
   "cell_type": "code",
   "execution_count": 306,
   "metadata": {},
   "outputs": [],
   "source": [
    "train.STA = train.STA.apply(points)\n",
    "test.STA = test.STA.apply(points)"
   ]
  },
  {
   "cell_type": "code",
   "execution_count": 307,
   "metadata": {},
   "outputs": [],
   "source": [
    "train.DATOP = train.DATOP.replace(\".\" , \":\")\n",
    "train.STD = train.STD.replace(\".\" , \":\")\n",
    "train.STA = train.STA.replace(\".\" , \":\")"
   ]
  },
  {
   "cell_type": "code",
   "execution_count": 308,
   "metadata": {},
   "outputs": [],
   "source": [
    "test.STA = test.STA.replace(\".\" , \":\")"
   ]
  },
  {
   "cell_type": "code",
   "execution_count": 309,
   "metadata": {},
   "outputs": [],
   "source": [
    "test.DATOP = pd.to_datetime(test.DATOP)\n",
    "test.STD = pd.to_datetime(test.STD)\n",
    "test.STA = pd.to_datetime(test.STA)\n",
    "\n",
    "train.DATOP = pd.to_datetime(train.DATOP)\n",
    "train.STD = pd.to_datetime(train.STD)\n",
    "train.STA = pd.to_datetime(train.STA)"
   ]
  },
  {
   "cell_type": "code",
   "execution_count": 310,
   "metadata": {},
   "outputs": [],
   "source": [
    "train['day'] = train.DATOP.dt.day\n",
    "train['month'] = train.DATOP.dt.month\n",
    "train['year'] = train.DATOP.dt.year\n",
    "train['daydep'] = train.STD.dt.day\n",
    "train['dayarr'] = train.STA.dt.day\n",
    "\n",
    "test['day'] = test.DATOP.dt.day\n",
    "test['month'] = test.DATOP.dt.month\n",
    "test['year'] = test.DATOP.dt.year\n",
    "test['daydep'] = test.STD.dt.day\n",
    "test['dayarr'] = test.STA.dt.day"
   ]
  },
  {
   "cell_type": "code",
   "execution_count": 311,
   "metadata": {},
   "outputs": [],
   "source": [
    "test['sta_hour'] = test.STA.dt.hour\n",
    "test['sta_minute'] = test.STA.dt.minute\n",
    "\n",
    "train['sta_hour'] = train.STA.dt.hour\n",
    "train['sta_minute'] = train.STA.dt.minute\n",
    "\n",
    "test['std_hour'] = test.STD.dt.hour\n",
    "test['std_minute'] = test.STD.dt.minute\n",
    "\n",
    "train['std_hour'] = train.STD.dt.hour\n",
    "train['std_minute'] = train.STD.dt.minute"
   ]
  },
  {
   "cell_type": "code",
   "execution_count": 312,
   "metadata": {},
   "outputs": [],
   "source": [
    "train['hr_sin_sta'] = np.sin(train['sta_hour']*(2.*np.pi/24))\n",
    "train['hr_cos_sta'] = np.cos(train['sta_hour']*(2.*np.pi/24))\n",
    "train['mn_sin_sta'] = np.sin(train['sta_minute']*(2.*np.pi/60))\n",
    "train['mn_cos_sta'] = np.cos(train['sta_minute']*(2.*np.pi/60))\n",
    "\n",
    "train['hr_sin_std'] = np.sin(train['std_hour']*(2.*np.pi/24))\n",
    "train['hr_cos_std'] = np.cos(train['std_hour']*(2.*np.pi/24))\n",
    "train['mn_sin_std'] = np.sin(train['std_minute']*(2.*np.pi/60))\n",
    "train['mn_cos_std'] = np.cos(train['std_minute']*(2.*np.pi/60))\n",
    "\n",
    "test['hr_sin_sta'] = np.sin(test['sta_hour']*(2.*np.pi/24))\n",
    "test['hr_cos_sta'] = np.cos(test['sta_hour']*(2.*np.pi/24))\n",
    "test['mn_sin_sta'] = np.sin(test['sta_minute']*(2.*np.pi/60))\n",
    "test['mn_cos_sta'] = np.cos(test['sta_minute']*(2.*np.pi/60))\n",
    "\n",
    "test['hr_sin_std'] = np.sin(test['std_hour']*(2.*np.pi/24))\n",
    "test['hr_cos_std'] = np.cos(test['std_hour']*(2.*np.pi/24))\n",
    "test['mn_sin_std'] = np.sin(test['std_minute']*(2.*np.pi/60))\n",
    "test['mn_cos_std'] = np.cos(test['std_minute']*(2.*np.pi/60))"
   ]
  },
  {
   "cell_type": "code",
   "execution_count": null,
   "metadata": {},
   "outputs": [],
   "source": []
  },
  {
   "cell_type": "code",
   "execution_count": 313,
   "metadata": {},
   "outputs": [
    {
     "data": {
      "text/plain": [
       "<matplotlib.axes._subplots.AxesSubplot at 0x1dc29ab6208>"
      ]
     },
     "execution_count": 313,
     "metadata": {},
     "output_type": "execute_result"
    },
    {
     "data": {
      "image/png": "[encoded data removed]",
      "text/plain": [
       "<Figure size 432x288 with 1 Axes>"
      ]
     },
     "metadata": {
      "needs_background": "light"
     },
     "output_type": "display_data"
    }
   ],
   "source": [
    "train.STATUS.value_counts().plot(kind = 'bar')"
   ]
  },
  {
   "cell_type": "code",
   "execution_count": 314,
   "metadata": {},
   "outputs": [],
   "source": [
    "def status_rare(row):\n",
    "    if row != \"ATA\" and row != \"SCH\":\n",
    "        return \"Other\"\n",
    "    else:\n",
    "        return row"
   ]
  },
  {
   "cell_type": "code",
   "execution_count": 315,
   "metadata": {},
   "outputs": [],
   "source": [
    "train.STATUS = train.STATUS.apply(status_rare)\n",
    "test.STATUS = test.STATUS.apply(status_rare)"
   ]
  },
  {
   "cell_type": "code",
   "execution_count": 142,
   "metadata": {},
   "outputs": [],
   "source": [
    "\"\"\"train.STATUS = np.where(train.STATUS == \"ATA\" , 1, 0)\n",
    "test.STATUS = np.where(test.STATUS == \"ATA\" , 1, 0)\"\"\""
   ]
  },
  {
   "cell_type": "code",
   "execution_count": 316,
   "metadata": {},
   "outputs": [
    {
     "name": "stderr",
     "output_type": "stream",
     "text": [
      "C:\\Users\\MxcsYounes\\.conda\\envs\\base_ml\\lib\\site-packages\\pandas\\util\\_decorators.py:208: FutureWarning: Passing timedelta64-dtype data is deprecated, will raise a TypeError in a future version\n",
      "  return func(*args, **kwargs)\n"
     ]
    }
   ],
   "source": [
    "train['total_time'] = pd.to_datetime((train.STA - train.STD)).dt.hour * 60+ pd.to_datetime((train.STA - train.STD)).dt.minute"
   ]
  },
  {
   "cell_type": "code",
   "execution_count": 317,
   "metadata": {},
   "outputs": [],
   "source": [
    "test['total_time'] = pd.to_datetime((test.STA - test.STD)).dt.hour * 60+ pd.to_datetime((test.STA - test.STD)).dt.minute"
   ]
  },
  {
   "cell_type": "code",
   "execution_count": 318,
   "metadata": {},
   "outputs": [
    {
     "data": {
      "text/html": [
       "<div>\n",
       "<style scoped>\n",
       "    .dataframe tbody tr th:only-of-type {\n",
       "        vertical-align: middle;\n",
       "    }\n",
       "\n",
       "    .dataframe tbody tr th {\n",
       "        vertical-align: top;\n",
       "    }\n",
       "\n",
       "    .dataframe thead th {\n",
       "        text-align: right;\n",
       "    }\n",
       "</style>\n",
       "<table border=\"1\" class=\"dataframe\">\n",
       "  <thead>\n",
       "    <tr style=\"text-align: right;\">\n",
       "      <th></th>\n",
       "      <th>ID</th>\n",
       "      <th>DATOP</th>\n",
       "      <th>FLTID</th>\n",
       "      <th>DEPSTN</th>\n",
       "      <th>ARRSTN</th>\n",
       "      <th>STD</th>\n",
       "      <th>STA</th>\n",
       "      <th>STATUS</th>\n",
       "      <th>AC</th>\n",
       "      <th>target</th>\n",
       "      <th>...</th>\n",
       "      <th>std_minute</th>\n",
       "      <th>hr_sin_sta</th>\n",
       "      <th>hr_cos_sta</th>\n",
       "      <th>mn_sin_sta</th>\n",
       "      <th>mn_cos_sta</th>\n",
       "      <th>hr_sin_std</th>\n",
       "      <th>hr_cos_std</th>\n",
       "      <th>mn_sin_std</th>\n",
       "      <th>mn_cos_std</th>\n",
       "      <th>total_time</th>\n",
       "    </tr>\n",
       "  </thead>\n",
       "  <tbody>\n",
       "    <tr>\n",
       "      <td>0</td>\n",
       "      <td>train_id_0</td>\n",
       "      <td>2016-01-03</td>\n",
       "      <td>TU 0712</td>\n",
       "      <td>CMN</td>\n",
       "      <td>TUN</td>\n",
       "      <td>2016-01-03 10:30:00</td>\n",
       "      <td>2016-01-03 12:55:00</td>\n",
       "      <td>ATA</td>\n",
       "      <td>TU 32AIMN</td>\n",
       "      <td>260.0</td>\n",
       "      <td>...</td>\n",
       "      <td>30</td>\n",
       "      <td>1.224647e-16</td>\n",
       "      <td>-1.000000e+00</td>\n",
       "      <td>-0.500000</td>\n",
       "      <td>8.660254e-01</td>\n",
       "      <td>0.500000</td>\n",
       "      <td>-0.866025</td>\n",
       "      <td>1.224647e-16</td>\n",
       "      <td>-1.000000</td>\n",
       "      <td>145</td>\n",
       "    </tr>\n",
       "    <tr>\n",
       "      <td>1</td>\n",
       "      <td>train_id_1</td>\n",
       "      <td>2016-01-13</td>\n",
       "      <td>TU 0757</td>\n",
       "      <td>MXP</td>\n",
       "      <td>TUN</td>\n",
       "      <td>2016-01-13 15:05:00</td>\n",
       "      <td>2016-01-13 16:55:00</td>\n",
       "      <td>ATA</td>\n",
       "      <td>TU 31BIMO</td>\n",
       "      <td>20.0</td>\n",
       "      <td>...</td>\n",
       "      <td>5</td>\n",
       "      <td>-8.660254e-01</td>\n",
       "      <td>-5.000000e-01</td>\n",
       "      <td>-0.500000</td>\n",
       "      <td>8.660254e-01</td>\n",
       "      <td>-0.707107</td>\n",
       "      <td>-0.707107</td>\n",
       "      <td>5.000000e-01</td>\n",
       "      <td>0.866025</td>\n",
       "      <td>110</td>\n",
       "    </tr>\n",
       "    <tr>\n",
       "      <td>2</td>\n",
       "      <td>train_id_2</td>\n",
       "      <td>2016-01-16</td>\n",
       "      <td>TU 0214</td>\n",
       "      <td>TUN</td>\n",
       "      <td>IST</td>\n",
       "      <td>2016-01-16 04:10:00</td>\n",
       "      <td>2016-01-16 06:45:00</td>\n",
       "      <td>ATA</td>\n",
       "      <td>TU 32AIMN</td>\n",
       "      <td>0.0</td>\n",
       "      <td>...</td>\n",
       "      <td>10</td>\n",
       "      <td>1.000000e+00</td>\n",
       "      <td>6.123234e-17</td>\n",
       "      <td>-1.000000</td>\n",
       "      <td>-1.836970e-16</td>\n",
       "      <td>0.866025</td>\n",
       "      <td>0.500000</td>\n",
       "      <td>8.660254e-01</td>\n",
       "      <td>0.500000</td>\n",
       "      <td>155</td>\n",
       "    </tr>\n",
       "    <tr>\n",
       "      <td>3</td>\n",
       "      <td>train_id_3</td>\n",
       "      <td>2016-01-17</td>\n",
       "      <td>TU 0480</td>\n",
       "      <td>DJE</td>\n",
       "      <td>NTE</td>\n",
       "      <td>2016-01-17 14:10:00</td>\n",
       "      <td>2016-01-17 17:00:00</td>\n",
       "      <td>ATA</td>\n",
       "      <td>TU 736IOK</td>\n",
       "      <td>0.0</td>\n",
       "      <td>...</td>\n",
       "      <td>10</td>\n",
       "      <td>-9.659258e-01</td>\n",
       "      <td>-2.588190e-01</td>\n",
       "      <td>0.000000</td>\n",
       "      <td>1.000000e+00</td>\n",
       "      <td>-0.500000</td>\n",
       "      <td>-0.866025</td>\n",
       "      <td>8.660254e-01</td>\n",
       "      <td>0.500000</td>\n",
       "      <td>170</td>\n",
       "    </tr>\n",
       "    <tr>\n",
       "      <td>4</td>\n",
       "      <td>train_id_4</td>\n",
       "      <td>2016-01-17</td>\n",
       "      <td>TU 0338</td>\n",
       "      <td>TUN</td>\n",
       "      <td>ALG</td>\n",
       "      <td>2016-01-17 14:30:00</td>\n",
       "      <td>2016-01-17 15:50:00</td>\n",
       "      <td>ATA</td>\n",
       "      <td>TU 320IMU</td>\n",
       "      <td>22.0</td>\n",
       "      <td>...</td>\n",
       "      <td>30</td>\n",
       "      <td>-7.071068e-01</td>\n",
       "      <td>-7.071068e-01</td>\n",
       "      <td>-0.866025</td>\n",
       "      <td>5.000000e-01</td>\n",
       "      <td>-0.500000</td>\n",
       "      <td>-0.866025</td>\n",
       "      <td>1.224647e-16</td>\n",
       "      <td>-1.000000</td>\n",
       "      <td>80</td>\n",
       "    </tr>\n",
       "  </tbody>\n",
       "</table>\n",
       "<p>5 rows × 28 columns</p>\n",
       "</div>"
      ],
      "text/plain": [
       "           ID      DATOP     FLTID DEPSTN ARRSTN                 STD  \\\n",
       "0  train_id_0 2016-01-03  TU 0712     CMN    TUN 2016-01-03 10:30:00   \n",
       "1  train_id_1 2016-01-13  TU 0757     MXP    TUN 2016-01-13 15:05:00   \n",
       "2  train_id_2 2016-01-16  TU 0214     TUN    IST 2016-01-16 04:10:00   \n",
       "3  train_id_3 2016-01-17  TU 0480     DJE    NTE 2016-01-17 14:10:00   \n",
       "4  train_id_4 2016-01-17  TU 0338     TUN    ALG 2016-01-17 14:30:00   \n",
       "\n",
       "                  STA STATUS         AC  target  ...  std_minute  \\\n",
       "0 2016-01-03 12:55:00    ATA  TU 32AIMN   260.0  ...          30   \n",
       "1 2016-01-13 16:55:00    ATA  TU 31BIMO    20.0  ...           5   \n",
       "2 2016-01-16 06:45:00    ATA  TU 32AIMN     0.0  ...          10   \n",
       "3 2016-01-17 17:00:00    ATA  TU 736IOK     0.0  ...          10   \n",
       "4 2016-01-17 15:50:00    ATA  TU 320IMU    22.0  ...          30   \n",
       "\n",
       "     hr_sin_sta    hr_cos_sta  mn_sin_sta    mn_cos_sta  hr_sin_std  \\\n",
       "0  1.224647e-16 -1.000000e+00   -0.500000  8.660254e-01    0.500000   \n",
       "1 -8.660254e-01 -5.000000e-01   -0.500000  8.660254e-01   -0.707107   \n",
       "2  1.000000e+00  6.123234e-17   -1.000000 -1.836970e-16    0.866025   \n",
       "3 -9.659258e-01 -2.588190e-01    0.000000  1.000000e+00   -0.500000   \n",
       "4 -7.071068e-01 -7.071068e-01   -0.866025  5.000000e-01   -0.500000   \n",
       "\n",
       "   hr_cos_std    mn_sin_std  mn_cos_std  total_time  \n",
       "0   -0.866025  1.224647e-16   -1.000000         145  \n",
       "1   -0.707107  5.000000e-01    0.866025         110  \n",
       "2    0.500000  8.660254e-01    0.500000         155  \n",
       "3   -0.866025  8.660254e-01    0.500000         170  \n",
       "4   -0.866025  1.224647e-16   -1.000000          80  \n",
       "\n",
       "[5 rows x 28 columns]"
      ]
     },
     "execution_count": 318,
     "metadata": {},
     "output_type": "execute_result"
    }
   ],
   "source": [
    "train.head()"
   ]
  },
  {
   "cell_type": "code",
   "execution_count": 319,
   "metadata": {},
   "outputs": [
    {
     "data": {
      "text/plain": [
       "['TUN', 'DJE', 'ORY', 'MIR', 'MRS', 'LYS', 'NCE', 'ALG', 'MXP', 'IST']"
      ]
     },
     "execution_count": 319,
     "metadata": {},
     "output_type": "execute_result"
    }
   ],
   "source": [
    "['TUN', 'DJE', 'ORY', 'MIR', 'MRS', 'LYS', 'NCE', 'ALG', 'MXP', 'IST']"
   ]
  },
  {
   "cell_type": "code",
   "execution_count": 320,
   "metadata": {},
   "outputs": [],
   "source": [
    "train['same_city'] = np.where(train['DEPSTN'] == train['ARRSTN'] ,1 ,0)\n",
    "test['same_city'] = np.where(test['DEPSTN'] == test['ARRSTN'] ,1 ,0)"
   ]
  },
  {
   "cell_type": "code",
   "execution_count": 321,
   "metadata": {},
   "outputs": [],
   "source": [
    "def extract_plan_hi(row):\n",
    "    return row.split(\" \")[1][:3]"
   ]
  },
  {
   "cell_type": "code",
   "execution_count": 322,
   "metadata": {},
   "outputs": [],
   "source": [
    "def extract_plan(row):\n",
    "    return row.split(\" \")[0]"
   ]
  },
  {
   "cell_type": "code",
   "execution_count": 323,
   "metadata": {},
   "outputs": [],
   "source": [
    "train['airplane_type'] = train['AC'].apply(extract_plan_hi)\n",
    "test['airplane_type'] = test['AC'].apply(extract_plan_hi)"
   ]
  },
  {
   "cell_type": "code",
   "execution_count": 324,
   "metadata": {},
   "outputs": [],
   "source": [
    "train['airplane_city'] = train['AC'].apply(extract_plan)\n",
    "test['airplane_city'] = test['AC'].apply(extract_plan)"
   ]
  },
  {
   "cell_type": "code",
   "execution_count": 325,
   "metadata": {},
   "outputs": [],
   "source": [
    "train['airplane_city'] = np.where(train['airplane_city'] == 'TU', 1, 0)\n",
    "test['airplane_city'] = np.where(test['airplane_city'] == 'TU', 1, 0)"
   ]
  },
  {
   "cell_type": "code",
   "execution_count": 326,
   "metadata": {},
   "outputs": [
    {
     "data": {
      "text/plain": [
       "Index(['32A', '320', '736', '31B', 'AT7', '332', 'CR9', '31A', '733', '734',\n",
       "       '738', '343', '319', '345', 'M87', '321'],\n",
       "      dtype='object')"
      ]
     },
     "execution_count": 326,
     "metadata": {},
     "output_type": "execute_result"
    }
   ],
   "source": [
    "train['airplane_type'].value_counts().index"
   ]
  },
  {
   "cell_type": "code",
   "execution_count": 23,
   "metadata": {},
   "outputs": [
    {
     "data": {
      "text/plain": [
       "<matplotlib.axes._subplots.AxesSubplot at 0x1dc602eae80>"
      ]
     },
     "execution_count": 23,
     "metadata": {},
     "output_type": "execute_result"
    },
    {
     "data": {
      "image/png": "[encoded data removed]",
      "text/plain": [
       "<Figure size 1080x576 with 1 Axes>"
      ]
     },
     "metadata": {
      "needs_background": "light"
     },
     "output_type": "display_data"
    }
   ],
   "source": [
    "plt.figure(figsize = (15 , 8))\n",
    "sns.scatterplot(x = 'target' , y = 'total_time' , data = train)"
   ]
  },
  {
   "cell_type": "code",
   "execution_count": 523,
   "metadata": {},
   "outputs": [
    {
     "data": {
      "text/plain": [
       "<matplotlib.axes._subplots.AxesSubplot at 0x2f9ad6b25f8>"
      ]
     },
     "execution_count": 523,
     "metadata": {},
     "output_type": "execute_result"
    },
    {
     "data": {
      "image/png": "[encoded data removed]",
      "text/plain": [
       "<Figure size 432x288 with 1 Axes>"
      ]
     },
     "metadata": {
      "needs_background": "light"
     },
     "output_type": "display_data"
    }
   ],
   "source": [
    "sns.boxplot(train.target)"
   ]
  },
  {
   "cell_type": "code",
   "execution_count": 327,
   "metadata": {},
   "outputs": [
    {
     "data": {
      "text/plain": [
       "<matplotlib.axes._subplots.AxesSubplot at 0x1dc2fe7a6d8>"
      ]
     },
     "execution_count": 327,
     "metadata": {},
     "output_type": "execute_result"
    },
    {
     "data": {
      "image/png": "[encoded data removed]",
      "text/plain": [
       "<Figure size 1440x720 with 1 Axes>"
      ]
     },
     "metadata": {
      "needs_background": "light"
     },
     "output_type": "display_data"
    }
   ],
   "source": [
    "train.corrwith(train['target']).plot.bar(figsize = (20,10), grid = True, title = 'Correlation with ETA')"
   ]
  },
  {
   "cell_type": "code",
   "execution_count": 328,
   "metadata": {},
   "outputs": [],
   "source": [
    "def city_other(row):\n",
    "    if row not in ['TUN', 'DJE', 'ORY', 'MIR', 'MRS', 'LYS', 'NCE', 'ALG', 'MXP', 'IST']:\n",
    "        return \"Other\"\n",
    "    else:\n",
    "        return row"
   ]
  },
  {
   "cell_type": "code",
   "execution_count": 329,
   "metadata": {},
   "outputs": [],
   "source": [
    "test.DEPSTN = test.DEPSTN.apply(city_other)\n",
    "train.DEPSTN = train.DEPSTN.apply(city_other)\n",
    "test.ARRSTN = test.ARRSTN.apply(city_other)\n",
    "train.ARRSTN = train.ARRSTN.apply(city_other)"
   ]
  },
  {
   "cell_type": "code",
   "execution_count": 330,
   "metadata": {},
   "outputs": [
    {
     "data": {
      "text/plain": [
       "TUN      3621\n",
       "Other    2681\n",
       "DJE       926\n",
       "ORY       574\n",
       "MIR       522\n",
       "MRS       243\n",
       "NCE       192\n",
       "LYS       191\n",
       "ALG       129\n",
       "MXP       129\n",
       "IST       125\n",
       "Name: DEPSTN, dtype: int64"
      ]
     },
     "execution_count": 330,
     "metadata": {},
     "output_type": "execute_result"
    }
   ],
   "source": [
    "test.DEPSTN.value_counts()"
   ]
  },
  {
   "cell_type": "code",
   "execution_count": 28,
   "metadata": {},
   "outputs": [
    {
     "data": {
      "text/plain": [
       "ID               0\n",
       "DATOP            0\n",
       "FLTID            0\n",
       "DEPSTN           0\n",
       "ARRSTN           0\n",
       "STD              0\n",
       "STA              0\n",
       "STATUS           0\n",
       "AC               0\n",
       "target           0\n",
       "day              0\n",
       "month            0\n",
       "year             0\n",
       "daydep           0\n",
       "dayarr           0\n",
       "sta_hour         0\n",
       "sta_minute       0\n",
       "std_hour         0\n",
       "std_minute       0\n",
       "total_time       0\n",
       "same_city        0\n",
       "airplane_type    0\n",
       "airplane_city    0\n",
       "dtype: int64"
      ]
     },
     "execution_count": 28,
     "metadata": {},
     "output_type": "execute_result"
    }
   ],
   "source": [
    "train.isnull().sum()"
   ]
  },
  {
   "cell_type": "code",
   "execution_count": 289,
   "metadata": {},
   "outputs": [
    {
     "data": {
      "text/plain": [
       "<matplotlib.axes._subplots.AxesSubplot at 0x1dc29848668>"
      ]
     },
     "execution_count": 289,
     "metadata": {},
     "output_type": "execute_result"
    },
    {
     "data": {
      "image/png": "[encoded data removed]",
      "text/plain": [
       "<Figure size 432x288 with 1 Axes>"
      ]
     },
     "metadata": {
      "needs_background": "light"
     },
     "output_type": "display_data"
    }
   ],
   "source": [
    "sns.distplot(train.target.transform(np.sqrt))"
   ]
  },
  {
   "cell_type": "code",
   "execution_count": 604,
   "metadata": {},
   "outputs": [
    {
     "data": {
      "text/plain": [
       "38168"
      ]
     },
     "execution_count": 604,
     "metadata": {},
     "output_type": "execute_result"
    }
   ],
   "source": [
    "(train.target == 0).sum()"
   ]
  },
  {
   "cell_type": "code",
   "execution_count": 331,
   "metadata": {},
   "outputs": [],
   "source": [
    "trainset = train.drop(['ID' , 'DATOP' , 'FLTID' , 'STD' , 'STA' , 'AC'] , axis = 1)\n",
    "testset = test.drop(['ID' , 'DATOP' , 'FLTID' , 'STD' , 'STA', 'AC'] , axis = 1)"
   ]
  },
  {
   "cell_type": "code",
   "execution_count": 291,
   "metadata": {},
   "outputs": [],
   "source": [
    "#trainset = trainset[trainset['target'] != 0]"
   ]
  },
  {
   "cell_type": "code",
   "execution_count": 332,
   "metadata": {},
   "outputs": [],
   "source": [
    "all_ = pd.concat([trainset.drop(['target'], axis = 1), testset])"
   ]
  },
  {
   "cell_type": "code",
   "execution_count": 333,
   "metadata": {},
   "outputs": [],
   "source": [
    "all_data = pd.get_dummies(all_)"
   ]
  },
  {
   "cell_type": "code",
   "execution_count": 334,
   "metadata": {},
   "outputs": [],
   "source": [
    "Xt = all_data.iloc[:trainset.shape[0],:]\n",
    "Xts = all_data.iloc[trainset.shape[0]:,:]"
   ]
  },
  {
   "cell_type": "code",
   "execution_count": 209,
   "metadata": {},
   "outputs": [
    {
     "data": {
      "text/html": [
       "<div>\n",
       "<style scoped>\n",
       "    .dataframe tbody tr th:only-of-type {\n",
       "        vertical-align: middle;\n",
       "    }\n",
       "\n",
       "    .dataframe tbody tr th {\n",
       "        vertical-align: top;\n",
       "    }\n",
       "\n",
       "    .dataframe thead th {\n",
       "        text-align: right;\n",
       "    }\n",
       "</style>\n",
       "<table border=\"1\" class=\"dataframe\">\n",
       "  <thead>\n",
       "    <tr style=\"text-align: right;\">\n",
       "      <th></th>\n",
       "      <th>DEPSTN</th>\n",
       "      <th>ARRSTN</th>\n",
       "      <th>STATUS</th>\n",
       "      <th>target</th>\n",
       "      <th>day</th>\n",
       "      <th>month</th>\n",
       "      <th>year</th>\n",
       "      <th>daydep</th>\n",
       "      <th>dayarr</th>\n",
       "      <th>sta_hour</th>\n",
       "      <th>...</th>\n",
       "      <th>mn_sin_sta</th>\n",
       "      <th>mn_cos_sta</th>\n",
       "      <th>hr_sin_std</th>\n",
       "      <th>hr_cos_std</th>\n",
       "      <th>mn_sin_std</th>\n",
       "      <th>mn_cos_std</th>\n",
       "      <th>total_time</th>\n",
       "      <th>same_city</th>\n",
       "      <th>airplane_type</th>\n",
       "      <th>airplane_city</th>\n",
       "    </tr>\n",
       "  </thead>\n",
       "  <tbody>\n",
       "    <tr>\n",
       "      <td>0</td>\n",
       "      <td>Other</td>\n",
       "      <td>TUN</td>\n",
       "      <td>ATA</td>\n",
       "      <td>260.0</td>\n",
       "      <td>3</td>\n",
       "      <td>1</td>\n",
       "      <td>2016</td>\n",
       "      <td>3</td>\n",
       "      <td>3</td>\n",
       "      <td>12</td>\n",
       "      <td>...</td>\n",
       "      <td>-0.500000</td>\n",
       "      <td>8.660254e-01</td>\n",
       "      <td>0.500000</td>\n",
       "      <td>-0.866025</td>\n",
       "      <td>1.224647e-16</td>\n",
       "      <td>-1.000000</td>\n",
       "      <td>145</td>\n",
       "      <td>0</td>\n",
       "      <td>32A</td>\n",
       "      <td>1</td>\n",
       "    </tr>\n",
       "    <tr>\n",
       "      <td>1</td>\n",
       "      <td>MXP</td>\n",
       "      <td>TUN</td>\n",
       "      <td>ATA</td>\n",
       "      <td>20.0</td>\n",
       "      <td>13</td>\n",
       "      <td>1</td>\n",
       "      <td>2016</td>\n",
       "      <td>13</td>\n",
       "      <td>13</td>\n",
       "      <td>16</td>\n",
       "      <td>...</td>\n",
       "      <td>-0.500000</td>\n",
       "      <td>8.660254e-01</td>\n",
       "      <td>-0.707107</td>\n",
       "      <td>-0.707107</td>\n",
       "      <td>5.000000e-01</td>\n",
       "      <td>0.866025</td>\n",
       "      <td>110</td>\n",
       "      <td>0</td>\n",
       "      <td>31B</td>\n",
       "      <td>1</td>\n",
       "    </tr>\n",
       "    <tr>\n",
       "      <td>2</td>\n",
       "      <td>TUN</td>\n",
       "      <td>IST</td>\n",
       "      <td>ATA</td>\n",
       "      <td>0.0</td>\n",
       "      <td>16</td>\n",
       "      <td>1</td>\n",
       "      <td>2016</td>\n",
       "      <td>16</td>\n",
       "      <td>16</td>\n",
       "      <td>6</td>\n",
       "      <td>...</td>\n",
       "      <td>-1.000000</td>\n",
       "      <td>-1.836970e-16</td>\n",
       "      <td>0.866025</td>\n",
       "      <td>0.500000</td>\n",
       "      <td>8.660254e-01</td>\n",
       "      <td>0.500000</td>\n",
       "      <td>155</td>\n",
       "      <td>0</td>\n",
       "      <td>32A</td>\n",
       "      <td>1</td>\n",
       "    </tr>\n",
       "    <tr>\n",
       "      <td>3</td>\n",
       "      <td>DJE</td>\n",
       "      <td>Other</td>\n",
       "      <td>ATA</td>\n",
       "      <td>0.0</td>\n",
       "      <td>17</td>\n",
       "      <td>1</td>\n",
       "      <td>2016</td>\n",
       "      <td>17</td>\n",
       "      <td>17</td>\n",
       "      <td>17</td>\n",
       "      <td>...</td>\n",
       "      <td>0.000000</td>\n",
       "      <td>1.000000e+00</td>\n",
       "      <td>-0.500000</td>\n",
       "      <td>-0.866025</td>\n",
       "      <td>8.660254e-01</td>\n",
       "      <td>0.500000</td>\n",
       "      <td>170</td>\n",
       "      <td>0</td>\n",
       "      <td>736</td>\n",
       "      <td>1</td>\n",
       "    </tr>\n",
       "    <tr>\n",
       "      <td>4</td>\n",
       "      <td>TUN</td>\n",
       "      <td>ALG</td>\n",
       "      <td>ATA</td>\n",
       "      <td>22.0</td>\n",
       "      <td>17</td>\n",
       "      <td>1</td>\n",
       "      <td>2016</td>\n",
       "      <td>17</td>\n",
       "      <td>17</td>\n",
       "      <td>15</td>\n",
       "      <td>...</td>\n",
       "      <td>-0.866025</td>\n",
       "      <td>5.000000e-01</td>\n",
       "      <td>-0.500000</td>\n",
       "      <td>-0.866025</td>\n",
       "      <td>1.224647e-16</td>\n",
       "      <td>-1.000000</td>\n",
       "      <td>80</td>\n",
       "      <td>0</td>\n",
       "      <td>320</td>\n",
       "      <td>1</td>\n",
       "    </tr>\n",
       "  </tbody>\n",
       "</table>\n",
       "<p>5 rows × 25 columns</p>\n",
       "</div>"
      ],
      "text/plain": [
       "  DEPSTN ARRSTN STATUS  target  day  month  year  daydep  dayarr  sta_hour  \\\n",
       "0  Other    TUN    ATA   260.0    3      1  2016       3       3        12   \n",
       "1    MXP    TUN    ATA    20.0   13      1  2016      13      13        16   \n",
       "2    TUN    IST    ATA     0.0   16      1  2016      16      16         6   \n",
       "3    DJE  Other    ATA     0.0   17      1  2016      17      17        17   \n",
       "4    TUN    ALG    ATA    22.0   17      1  2016      17      17        15   \n",
       "\n",
       "   ...  mn_sin_sta    mn_cos_sta  hr_sin_std  hr_cos_std    mn_sin_std  \\\n",
       "0  ...   -0.500000  8.660254e-01    0.500000   -0.866025  1.224647e-16   \n",
       "1  ...   -0.500000  8.660254e-01   -0.707107   -0.707107  5.000000e-01   \n",
       "2  ...   -1.000000 -1.836970e-16    0.866025    0.500000  8.660254e-01   \n",
       "3  ...    0.000000  1.000000e+00   -0.500000   -0.866025  8.660254e-01   \n",
       "4  ...   -0.866025  5.000000e-01   -0.500000   -0.866025  1.224647e-16   \n",
       "\n",
       "   mn_cos_std  total_time  same_city  airplane_type  airplane_city  \n",
       "0   -1.000000         145          0            32A              1  \n",
       "1    0.866025         110          0            31B              1  \n",
       "2    0.500000         155          0            32A              1  \n",
       "3    0.500000         170          0            736              1  \n",
       "4   -1.000000          80          0            320              1  \n",
       "\n",
       "[5 rows x 25 columns]"
      ]
     },
     "execution_count": 209,
     "metadata": {},
     "output_type": "execute_result"
    }
   ],
   "source": [
    "trainset.head()"
   ]
  },
  {
   "cell_type": "code",
   "execution_count": 335,
   "metadata": {},
   "outputs": [],
   "source": [
    "X = Xt.copy()\n",
    "y = trainset.target"
   ]
  },
  {
   "cell_type": "code",
   "execution_count": 555,
   "metadata": {},
   "outputs": [],
   "source": [
    "\"\"\"X = trainset.drop(['target'], axis = 1)\n",
    "y = trainset.target\"\"\""
   ]
  },
  {
   "cell_type": "code",
   "execution_count": 306,
   "metadata": {},
   "outputs": [],
   "source": [
    "for c in X.columns:\n",
    "    col_type = X[c].dtype\n",
    "    if col_type == 'object' or col_type.name == 'category':\n",
    "        X[c] = X[c].astype('category')"
   ]
  },
  {
   "cell_type": "code",
   "execution_count": 336,
   "metadata": {},
   "outputs": [],
   "source": [
    "from sklearn.model_selection import train_test_split\n",
    "x_train, x_test, y_train, y_test = train_test_split(X, y, test_size = 0.3 , random_state = 70)"
   ]
  },
  {
   "cell_type": "code",
   "execution_count": null,
   "metadata": {},
   "outputs": [],
   "source": []
  },
  {
   "cell_type": "code",
   "execution_count": 337,
   "metadata": {},
   "outputs": [
    {
     "data": {
      "text/plain": [
       "LinearRegression(copy_X=True, fit_intercept=True, n_jobs=None, normalize=False)"
      ]
     },
     "execution_count": 337,
     "metadata": {},
     "output_type": "execute_result"
    }
   ],
   "source": [
    "from sklearn.linear_model import LinearRegression\n",
    "reg = LinearRegression()\n",
    "reg.fit(x_train, y_train)"
   ]
  },
  {
   "cell_type": "code",
   "execution_count": 338,
   "metadata": {},
   "outputs": [
    {
     "data": {
      "text/plain": [
       "119.42818207543725"
      ]
     },
     "execution_count": 338,
     "metadata": {},
     "output_type": "execute_result"
    }
   ],
   "source": [
    "from sklearn.metrics import mean_squared_error\n",
    "y_pred = reg.predict(x_test)\n",
    "np.sqrt(mean_squared_error(y_pred , y_test))"
   ]
  },
  {
   "cell_type": "code",
   "execution_count": 108,
   "metadata": {},
   "outputs": [
    {
     "name": "stderr",
     "output_type": "stream",
     "text": [
      "C:\\Users\\MxcsYounes\\.conda\\envs\\base_ml\\lib\\site-packages\\sklearn\\ensemble\\forest.py:245: FutureWarning: The default value of n_estimators will change from 10 in version 0.20 to 100 in 0.22.\n",
      "  \"10 in version 0.20 to 100 in 0.22.\", FutureWarning)\n"
     ]
    },
    {
     "data": {
      "text/plain": [
       "RandomForestRegressor(bootstrap=True, criterion='mse', max_depth=None,\n",
       "                      max_features='auto', max_leaf_nodes=None,\n",
       "                      min_impurity_decrease=0.0, min_impurity_split=None,\n",
       "                      min_samples_leaf=1, min_samples_split=2,\n",
       "                      min_weight_fraction_leaf=0.0, n_estimators=10,\n",
       "                      n_jobs=None, oob_score=False, random_state=None,\n",
       "                      verbose=0, warm_start=False)"
      ]
     },
     "execution_count": 108,
     "metadata": {},
     "output_type": "execute_result"
    }
   ],
   "source": [
    "from sklearn.ensemble import RandomForestRegressor\n",
    "reg = RandomForestRegressor()\n",
    "reg.fit(x_train, y_train)"
   ]
  },
  {
   "cell_type": "code",
   "execution_count": 109,
   "metadata": {},
   "outputs": [
    {
     "data": {
      "text/plain": [
       "125.33770960272689"
      ]
     },
     "execution_count": 109,
     "metadata": {},
     "output_type": "execute_result"
    }
   ],
   "source": [
    "from sklearn.metrics import mean_squared_error\n",
    "y_pred = reg.predict(x_test)\n",
    "np.sqrt(mean_squared_error(y_pred , y_test))"
   ]
  },
  {
   "cell_type": "code",
   "execution_count": 239,
   "metadata": {},
   "outputs": [
    {
     "data": {
      "text/plain": [
       "Index(['day', 'month', 'year', 'daydep', 'dayarr', 'sta_hour', 'sta_minute',\n",
       "       'std_hour', 'std_minute', 'hr_sin_sta', 'hr_cos_sta', 'mn_sin_sta',\n",
       "       'mn_cos_sta', 'hr_sin_std', 'hr_cos_std', 'mn_sin_std', 'mn_cos_std',\n",
       "       'total_time', 'same_city', 'airplane_city', 'DEPSTN_ALG', 'DEPSTN_DJE',\n",
       "       'DEPSTN_IST', 'DEPSTN_LYS', 'DEPSTN_MIR', 'DEPSTN_MRS', 'DEPSTN_MXP',\n",
       "       'DEPSTN_NCE', 'DEPSTN_ORY', 'DEPSTN_Other', 'DEPSTN_TUN', 'ARRSTN_ALG',\n",
       "       'ARRSTN_DJE', 'ARRSTN_IST', 'ARRSTN_LYS', 'ARRSTN_MIR', 'ARRSTN_MRS',\n",
       "       'ARRSTN_MXP', 'ARRSTN_NCE', 'ARRSTN_ORY', 'ARRSTN_Other', 'ARRSTN_TUN',\n",
       "       'STATUS_ATA', 'STATUS_DEL', 'STATUS_DEP', 'STATUS_RTR', 'STATUS_SCH',\n",
       "       'airplane_type_319', 'airplane_type_31A', 'airplane_type_31B',\n",
       "       'airplane_type_320', 'airplane_type_321', 'airplane_type_32A',\n",
       "       'airplane_type_332', 'airplane_type_343', 'airplane_type_345',\n",
       "       'airplane_type_733', 'airplane_type_734', 'airplane_type_736',\n",
       "       'airplane_type_738', 'airplane_type_AT7', 'airplane_type_CR9',\n",
       "       'airplane_type_M87'],\n",
       "      dtype='object')"
      ]
     },
     "execution_count": 239,
     "metadata": {},
     "output_type": "execute_result"
    }
   ],
   "source": [
    "x_train.columns"
   ]
  },
  {
   "cell_type": "code",
   "execution_count": 618,
   "metadata": {},
   "outputs": [
    {
     "name": "stderr",
     "output_type": "stream",
     "text": [
      "C:\\Users\\MxcsYounes\\.conda\\envs\\base_ml\\lib\\site-packages\\xgboost\\core.py:587: FutureWarning: Series.base is deprecated and will be removed in a future version\n",
      "  if getattr(data, 'base', None) is not None and \\\n"
     ]
    },
    {
     "data": {
      "text/plain": [
       "XGBRegressor(base_score=0.5, booster='gbtree', colsample_bylevel=1,\n",
       "             colsample_bynode=1, colsample_bytree=1, gamma=0,\n",
       "             importance_type='gain', learning_rate=0.1, max_delta_step=0,\n",
       "             max_depth=3, min_child_weight=1, missing=None, n_estimators=100,\n",
       "             n_jobs=1, nthread=None, objective='reg:squarederror',\n",
       "             random_state=0, reg_alpha=0, reg_lambda=1, scale_pos_weight=1,\n",
       "             seed=None, silent=None, subsample=1, verbosity=1)"
      ]
     },
     "execution_count": 618,
     "metadata": {},
     "output_type": "execute_result"
    }
   ],
   "source": [
    "from xgboost import XGBRegressor\n",
    "reg = XGBRegressor(objective = 'reg:squarederror')\n",
    "reg.fit(x_train, y_train)"
   ]
  },
  {
   "cell_type": "code",
   "execution_count": 619,
   "metadata": {},
   "outputs": [
    {
     "data": {
      "text/plain": [
       "4.9633736572845075"
      ]
     },
     "execution_count": 619,
     "metadata": {},
     "output_type": "execute_result"
    }
   ],
   "source": [
    "from sklearn.metrics import mean_squared_error\n",
    "y_pred = reg.predict(x_test)\n",
    "np.sqrt(mean_squared_error(y_pred , y_test))"
   ]
  },
  {
   "cell_type": "code",
   "execution_count": 339,
   "metadata": {},
   "outputs": [],
   "source": [
    "params = {\n",
    "    'application': 'binary', # for binary classification\n",
    "#     'num_class' : 1, # used for multi-classes\n",
    "    'boosting': 'gbdt', # traditional gradient boosting decision tree\n",
    "    'num_iterations': 100, \n",
    "    'learning_rate': 0.05,\n",
    "    'num_leaves': 62,\n",
    "    'device': 'cpu', # you can use GPU to achieve faster learning\n",
    "    'max_depth': -1, # <0 means no limit\n",
    "    'max_bin': 510, # Small number of bins may reduce training accuracy but can deal with over-fitting\n",
    "    'lambda_l1': 5, # L1 regularization\n",
    "    'lambda_l2': 10, # L2 regularization\n",
    "    'metric' : 'binary_error',\n",
    "    'subsample_for_bin': 200, # number of samples for constructing bins\n",
    "    'subsample': 1, # subsample ratio of the training instance\n",
    "    'colsample_bytree': 0.8, # subsample ratio of columns when constructing the tree\n",
    "    'min_split_gain': 0.5, # minimum loss reduction required to make further partition on a leaf node of the tree\n",
    "    'min_child_weight': 1, # minimum sum of instance weight (hessian) needed in a leaf\n",
    "    'min_child_samples': 5# minimum number of data needed in a leaf\n",
    "}"
   ]
  },
  {
   "cell_type": "code",
   "execution_count": 340,
   "metadata": {},
   "outputs": [
    {
     "data": {
      "text/plain": [
       "LGBMRegressor(boosting_type='gbdt', class_weight=None, colsample_bytree=1.0,\n",
       "              importance_type='split', learning_rate=0.1, max_bin=510,\n",
       "              max_depth=-1, min_child_samples=5, min_child_weight=1,\n",
       "              min_split_gain=0.5, n_estimators=100, n_jobs=5, num_leaves=31,\n",
       "              objective='binary', random_state=None, reg_alpha=0.0,\n",
       "              reg_lambda=0.0, silent=True, subsample=1, subsample_for_bin=200,\n",
       "              subsample_freq=0)"
      ]
     },
     "execution_count": 340,
     "metadata": {},
     "output_type": "execute_result"
    }
   ],
   "source": [
    "from lightgbm import LGBMRegressor\n",
    "reg = LGBMRegressor(boosting_type= 'gbdt', \n",
    "          objective = 'binary', \n",
    "          n_jobs = 5, \n",
    "          silent = True,\n",
    "          max_depth = params['max_depth'],\n",
    "          max_bin = params['max_bin'], \n",
    "          subsample_for_bin = params['subsample_for_bin'],\n",
    "          subsample = params['subsample'], \n",
    "          min_split_gain = params['min_split_gain'], \n",
    "          min_child_weight = params['min_child_weight'], \n",
    "          min_child_samples = params['min_child_samples'])\n",
    "reg.fit(x_train, y_train)"
   ]
  },
  {
   "cell_type": "code",
   "execution_count": 341,
   "metadata": {},
   "outputs": [
    {
     "data": {
      "text/plain": [
       "132.24857493065238"
      ]
     },
     "execution_count": 341,
     "metadata": {},
     "output_type": "execute_result"
    }
   ],
   "source": [
    "from sklearn.metrics import mean_squared_error\n",
    "y_pred = reg.predict(x_test)\n",
    "np.sqrt(mean_squared_error(y_pred , y_test))"
   ]
  },
  {
   "cell_type": "code",
   "execution_count": 216,
   "metadata": {},
   "outputs": [],
   "source": [
    "from sklearn.model_selection import cross_val_score\n",
    "result = cross_val_score(LGBMRegressor(), X, y, cv=10 , scoring = 'neg_mean_squared_error')"
   ]
  },
  {
   "cell_type": "code",
   "execution_count": 217,
   "metadata": {},
   "outputs": [
    {
     "data": {
      "text/plain": [
       "array([ -6884.60332643,  -7679.30562061,  -6855.27287246, -14196.28810992,\n",
       "       -14790.59084706, -17507.11102552,  -5481.27196216, -17697.36199152,\n",
       "       -16806.48000532, -15266.72962981])"
      ]
     },
     "execution_count": 217,
     "metadata": {},
     "output_type": "execute_result"
    }
   ],
   "source": [
    "result"
   ]
  },
  {
   "cell_type": "code",
   "execution_count": 218,
   "metadata": {},
   "outputs": [
    {
     "data": {
      "text/plain": [
       "110.97973481263232"
      ]
     },
     "execution_count": 218,
     "metadata": {},
     "output_type": "execute_result"
    }
   ],
   "source": [
    "np.sqrt(np.abs(result.mean()))"
   ]
  },
  {
   "cell_type": "code",
   "execution_count": 107,
   "metadata": {},
   "outputs": [
    {
     "name": "stdout",
     "output_type": "stream",
     "text": [
      "Fitting 5 folds for each of 8 candidates, totalling 40 fits\n"
     ]
    },
    {
     "name": "stderr",
     "output_type": "stream",
     "text": [
      "[Parallel(n_jobs=-1)]: Using backend LokyBackend with 4 concurrent workers.\n",
      "[Parallel(n_jobs=-1)]: Done  40 out of  40 | elapsed:   52.1s finished\n"
     ]
    },
    {
     "data": {
      "text/plain": [
       "GridSearchCV(cv=5, error_score='raise-deprecating',\n",
       "             estimator=LGBMRegressor(boosting_type='gbdt', class_weight=None,\n",
       "                                     colsample_bytree=1.0,\n",
       "                                     importance_type='split', learning_rate=0.1,\n",
       "                                     max_depth=-1, min_child_samples=20,\n",
       "                                     min_child_weight=0.001, min_split_gain=0.0,\n",
       "                                     n_estimators=100, n_jobs=-1, num_leaves=31,\n",
       "                                     objective=None, random_state=None,\n",
       "                                     reg_alpha=0.0, reg_lambda=0.0, silent=True,\n",
       "                                     subsample=1.0, subsample_for_bin=200000,\n",
       "                                     subsample_freq=0),\n",
       "             iid='warn', n_jobs=-1,\n",
       "             param_grid={'n_estimator': [10, 50, 100, 150, 200, 400, 600,\n",
       "                                         1000]},\n",
       "             pre_dispatch='2*n_jobs', refit=True, return_train_score=False,\n",
       "             scoring='neg_mean_squared_error', verbose=True)"
      ]
     },
     "execution_count": 107,
     "metadata": {},
     "output_type": "execute_result"
    }
   ],
   "source": [
    "from sklearn.model_selection import GridSearchCV\n",
    "params = {'n_estimator': [10,50,100,150, 200 , 400 , 600, 1000]}\n",
    "\n",
    "# Iny_testitialize XGB and GridSearch\n",
    "\n",
    "grid = GridSearchCV(LGBMRegressor(), params ,n_jobs = -1, verbose=True, cv = 5,scoring = 'neg_mean_squared_error' )\n",
    "grid.fit(X, y)"
   ]
  },
  {
   "cell_type": "code",
   "execution_count": 108,
   "metadata": {},
   "outputs": [
    {
     "name": "stdout",
     "output_type": "stream",
     "text": [
      "-12464.215946215716\n",
      "{'n_estimator': 10}\n"
     ]
    }
   ],
   "source": [
    "print(grid.best_score_)\n",
    "print(grid.best_params_)"
   ]
  },
  {
   "cell_type": "code",
   "execution_count": 224,
   "metadata": {},
   "outputs": [],
   "source": [
    "def above(x):\n",
    "    if x < 20:\n",
    "        return 0\n",
    "    else:\n",
    "        return x"
   ]
  },
  {
   "cell_type": "code",
   "execution_count": 56,
   "metadata": {},
   "outputs": [],
   "source": [
    "resu = pd.DataFrame({\"Pred\" : y_pred , \"Test\":y_test})"
   ]
  },
  {
   "cell_type": "code",
   "execution_count": 58,
   "metadata": {},
   "outputs": [],
   "source": [
    "aa = resu.Pred.apply(above).values"
   ]
  },
  {
   "cell_type": "code",
   "execution_count": 50,
   "metadata": {},
   "outputs": [
    {
     "data": {
      "text/html": [
       "<div>\n",
       "<style scoped>\n",
       "    .dataframe tbody tr th:only-of-type {\n",
       "        vertical-align: middle;\n",
       "    }\n",
       "\n",
       "    .dataframe tbody tr th {\n",
       "        vertical-align: top;\n",
       "    }\n",
       "\n",
       "    .dataframe thead th {\n",
       "        text-align: right;\n",
       "    }\n",
       "</style>\n",
       "<table border=\"1\" class=\"dataframe\">\n",
       "  <thead>\n",
       "    <tr style=\"text-align: right;\">\n",
       "      <th></th>\n",
       "      <th>Pred</th>\n",
       "      <th>Test</th>\n",
       "    </tr>\n",
       "  </thead>\n",
       "  <tbody>\n",
       "    <tr>\n",
       "      <td>107433</td>\n",
       "      <td>-22.889500</td>\n",
       "      <td>0.0</td>\n",
       "    </tr>\n",
       "    <tr>\n",
       "      <td>103728</td>\n",
       "      <td>-19.592866</td>\n",
       "      <td>0.0</td>\n",
       "    </tr>\n",
       "    <tr>\n",
       "      <td>70616</td>\n",
       "      <td>-19.281737</td>\n",
       "      <td>0.0</td>\n",
       "    </tr>\n",
       "    <tr>\n",
       "      <td>69541</td>\n",
       "      <td>-18.421496</td>\n",
       "      <td>0.0</td>\n",
       "    </tr>\n",
       "    <tr>\n",
       "      <td>105021</td>\n",
       "      <td>-18.062263</td>\n",
       "      <td>0.0</td>\n",
       "    </tr>\n",
       "    <tr>\n",
       "      <td>...</td>\n",
       "      <td>...</td>\n",
       "      <td>...</td>\n",
       "    </tr>\n",
       "    <tr>\n",
       "      <td>78773</td>\n",
       "      <td>236.521921</td>\n",
       "      <td>0.0</td>\n",
       "    </tr>\n",
       "    <tr>\n",
       "      <td>63329</td>\n",
       "      <td>277.209225</td>\n",
       "      <td>0.0</td>\n",
       "    </tr>\n",
       "    <tr>\n",
       "      <td>85589</td>\n",
       "      <td>283.180197</td>\n",
       "      <td>0.0</td>\n",
       "    </tr>\n",
       "    <tr>\n",
       "      <td>85579</td>\n",
       "      <td>286.852099</td>\n",
       "      <td>0.0</td>\n",
       "    </tr>\n",
       "    <tr>\n",
       "      <td>95926</td>\n",
       "      <td>348.327335</td>\n",
       "      <td>0.0</td>\n",
       "    </tr>\n",
       "  </tbody>\n",
       "</table>\n",
       "<p>14058 rows × 2 columns</p>\n",
       "</div>"
      ],
      "text/plain": [
       "              Pred  Test\n",
       "107433  -22.889500   0.0\n",
       "103728  -19.592866   0.0\n",
       "70616   -19.281737   0.0\n",
       "69541   -18.421496   0.0\n",
       "105021  -18.062263   0.0\n",
       "...            ...   ...\n",
       "78773   236.521921   0.0\n",
       "63329   277.209225   0.0\n",
       "85589   283.180197   0.0\n",
       "85579   286.852099   0.0\n",
       "95926   348.327335   0.0\n",
       "\n",
       "[14058 rows x 2 columns]"
      ]
     },
     "execution_count": 50,
     "metadata": {},
     "output_type": "execute_result"
    }
   ],
   "source": [
    "resu[resu['Test'] < 10].sort_values(\"Pred\")"
   ]
  },
  {
   "cell_type": "code",
   "execution_count": 310,
   "metadata": {},
   "outputs": [],
   "source": [
    "for c in testset.columns:\n",
    "    col_type = testset[c].dtype\n",
    "    if col_type == 'object' or col_type.name == 'category':\n",
    "        testset[c] = testset[c].astype('category')"
   ]
  },
  {
   "cell_type": "code",
   "execution_count": 230,
   "metadata": {},
   "outputs": [],
   "source": [
    "result = reg.predict(Xts)"
   ]
  },
  {
   "cell_type": "code",
   "execution_count": 231,
   "metadata": {},
   "outputs": [],
   "source": [
    "orders = test.ID\n",
    "all_data = list(zip(orders, result.reshape(1,-1)[0].astype('float32')))"
   ]
  },
  {
   "cell_type": "code",
   "execution_count": 232,
   "metadata": {},
   "outputs": [
    {
     "data": {
      "text/html": [
       "<div>\n",
       "<style scoped>\n",
       "    .dataframe tbody tr th:only-of-type {\n",
       "        vertical-align: middle;\n",
       "    }\n",
       "\n",
       "    .dataframe tbody tr th {\n",
       "        vertical-align: top;\n",
       "    }\n",
       "\n",
       "    .dataframe thead th {\n",
       "        text-align: right;\n",
       "    }\n",
       "</style>\n",
       "<table border=\"1\" class=\"dataframe\">\n",
       "  <thead>\n",
       "    <tr style=\"text-align: right;\">\n",
       "      <th></th>\n",
       "      <th>ID</th>\n",
       "      <th>target</th>\n",
       "    </tr>\n",
       "  </thead>\n",
       "  <tbody>\n",
       "    <tr>\n",
       "      <td>0</td>\n",
       "      <td>test_id_0</td>\n",
       "      <td>17.545910</td>\n",
       "    </tr>\n",
       "    <tr>\n",
       "      <td>1</td>\n",
       "      <td>test_id_1</td>\n",
       "      <td>31.620743</td>\n",
       "    </tr>\n",
       "    <tr>\n",
       "      <td>2</td>\n",
       "      <td>test_id_2</td>\n",
       "      <td>29.483791</td>\n",
       "    </tr>\n",
       "    <tr>\n",
       "      <td>3</td>\n",
       "      <td>test_id_3</td>\n",
       "      <td>16.649971</td>\n",
       "    </tr>\n",
       "    <tr>\n",
       "      <td>4</td>\n",
       "      <td>test_id_4</td>\n",
       "      <td>44.697678</td>\n",
       "    </tr>\n",
       "  </tbody>\n",
       "</table>\n",
       "</div>"
      ],
      "text/plain": [
       "          ID     target\n",
       "0  test_id_0  17.545910\n",
       "1  test_id_1  31.620743\n",
       "2  test_id_2  29.483791\n",
       "3  test_id_3  16.649971\n",
       "4  test_id_4  44.697678"
      ]
     },
     "execution_count": 232,
     "metadata": {},
     "output_type": "execute_result"
    }
   ],
   "source": [
    "final_result = pd.DataFrame(all_data, columns=['ID', 'target'])\n",
    "final_result.head()"
   ]
  },
  {
   "cell_type": "code",
   "execution_count": 233,
   "metadata": {},
   "outputs": [
    {
     "data": {
      "text/plain": [
       "<matplotlib.axes._subplots.AxesSubplot at 0x1dc21c40390>"
      ]
     },
     "execution_count": 233,
     "metadata": {},
     "output_type": "execute_result"
    },
    {
     "data": {
      "image/png": "[encoded data removed]",
      "text/plain": [
       "<Figure size 432x288 with 1 Axes>"
      ]
     },
     "metadata": {
      "needs_background": "light"
     },
     "output_type": "display_data"
    }
   ],
   "source": [
    "sns.distplot(final_result.target)"
   ]
  },
  {
   "cell_type": "code",
   "execution_count": 226,
   "metadata": {},
   "outputs": [
    {
     "data": {
      "text/html": [
       "<div>\n",
       "<style scoped>\n",
       "    .dataframe tbody tr th:only-of-type {\n",
       "        vertical-align: middle;\n",
       "    }\n",
       "\n",
       "    .dataframe tbody tr th {\n",
       "        vertical-align: top;\n",
       "    }\n",
       "\n",
       "    .dataframe thead th {\n",
       "        text-align: right;\n",
       "    }\n",
       "</style>\n",
       "<table border=\"1\" class=\"dataframe\">\n",
       "  <thead>\n",
       "    <tr style=\"text-align: right;\">\n",
       "      <th></th>\n",
       "      <th>target</th>\n",
       "    </tr>\n",
       "  </thead>\n",
       "  <tbody>\n",
       "    <tr>\n",
       "      <td>count</td>\n",
       "      <td>9333.000000</td>\n",
       "    </tr>\n",
       "    <tr>\n",
       "      <td>mean</td>\n",
       "      <td>48.559781</td>\n",
       "    </tr>\n",
       "    <tr>\n",
       "      <td>std</td>\n",
       "      <td>48.180145</td>\n",
       "    </tr>\n",
       "    <tr>\n",
       "      <td>min</td>\n",
       "      <td>0.000000</td>\n",
       "    </tr>\n",
       "    <tr>\n",
       "      <td>25%</td>\n",
       "      <td>22.674847</td>\n",
       "    </tr>\n",
       "    <tr>\n",
       "      <td>50%</td>\n",
       "      <td>36.036442</td>\n",
       "    </tr>\n",
       "    <tr>\n",
       "      <td>75%</td>\n",
       "      <td>60.623871</td>\n",
       "    </tr>\n",
       "    <tr>\n",
       "      <td>max</td>\n",
       "      <td>477.248138</td>\n",
       "    </tr>\n",
       "  </tbody>\n",
       "</table>\n",
       "</div>"
      ],
      "text/plain": [
       "            target\n",
       "count  9333.000000\n",
       "mean     48.559781\n",
       "std      48.180145\n",
       "min       0.000000\n",
       "25%      22.674847\n",
       "50%      36.036442\n",
       "75%      60.623871\n",
       "max     477.248138"
      ]
     },
     "execution_count": 226,
     "metadata": {},
     "output_type": "execute_result"
    }
   ],
   "source": [
    "final_result.describe()"
   ]
  },
  {
   "cell_type": "code",
   "execution_count": 234,
   "metadata": {},
   "outputs": [],
   "source": [
    "final_result['target'] = final_result['target'].apply(above)"
   ]
  },
  {
   "cell_type": "code",
   "execution_count": 235,
   "metadata": {},
   "outputs": [
    {
     "data": {
      "text/html": [
       "<div>\n",
       "<style scoped>\n",
       "    .dataframe tbody tr th:only-of-type {\n",
       "        vertical-align: middle;\n",
       "    }\n",
       "\n",
       "    .dataframe tbody tr th {\n",
       "        vertical-align: top;\n",
       "    }\n",
       "\n",
       "    .dataframe thead th {\n",
       "        text-align: right;\n",
       "    }\n",
       "</style>\n",
       "<table border=\"1\" class=\"dataframe\">\n",
       "  <thead>\n",
       "    <tr style=\"text-align: right;\">\n",
       "      <th></th>\n",
       "      <th>ID</th>\n",
       "      <th>target</th>\n",
       "    </tr>\n",
       "  </thead>\n",
       "  <tbody>\n",
       "  </tbody>\n",
       "</table>\n",
       "</div>"
      ],
      "text/plain": [
       "Empty DataFrame\n",
       "Columns: [ID, target]\n",
       "Index: []"
      ]
     },
     "execution_count": 235,
     "metadata": {},
     "output_type": "execute_result"
    }
   ],
   "source": [
    "final_result[final_result['target']< 0]"
   ]
  },
  {
   "cell_type": "code",
   "execution_count": 236,
   "metadata": {},
   "outputs": [],
   "source": [
    "def relu(x):\n",
    "    return x * (x > 0)\n",
    "final_result['target'] = final_result['target'].transform(relu).transform(np.abs)\n",
    "final_result['target'] = final_result['target'].astype(float)"
   ]
  },
  {
   "cell_type": "code",
   "execution_count": 237,
   "metadata": {},
   "outputs": [],
   "source": [
    "final_result.to_csv('first_tunis_air_3_lgbm_15.csv' , index = False)"
   ]
  },
  {
   "cell_type": "code",
   "execution_count": 42,
   "metadata": {},
   "outputs": [
    {
     "name": "stderr",
     "output_type": "stream",
     "text": [
      "Using TensorFlow backend.\n"
     ]
    }
   ],
   "source": [
    "from keras.callbacks import ModelCheckpoint\n",
    "from keras.models import Sequential\n",
    "from keras.layers import Dense, Activation, Flatten,Dropout, BatchNormalization"
   ]
  },
  {
   "cell_type": "code",
   "execution_count": 45,
   "metadata": {},
   "outputs": [
    {
     "name": "stdout",
     "output_type": "stream",
     "text": [
      "Model: \"sequential_2\"\n",
      "_________________________________________________________________\n",
      "Layer (type)                 Output Shape              Param #   \n",
      "=================================================================\n",
      "dense_4 (Dense)              (None, 64)                3328      \n",
      "_________________________________________________________________\n",
      "batch_normalization_2 (Batch (None, 64)                256       \n",
      "_________________________________________________________________\n",
      "dropout_2 (Dropout)          (None, 64)                0         \n",
      "_________________________________________________________________\n",
      "dense_5 (Dense)              (None, 64)                4160      \n",
      "_________________________________________________________________\n",
      "batch_normalization_3 (Batch (None, 64)                256       \n",
      "_________________________________________________________________\n",
      "dropout_3 (Dropout)          (None, 64)                0         \n",
      "_________________________________________________________________\n",
      "dense_6 (Dense)              (None, 1)                 65        \n",
      "=================================================================\n",
      "Total params: 8,065\n",
      "Trainable params: 7,809\n",
      "Non-trainable params: 256\n",
      "_________________________________________________________________\n"
     ]
    }
   ],
   "source": [
    "NN_model = Sequential()\n",
    "\n",
    "# The Input Layer :\n",
    "NN_model.add(Dense(64, kernel_initializer='normal',input_dim = x_train.shape[1], activation='relu'))\n",
    "NN_model.add(BatchNormalization())\n",
    "NN_model.add(Dropout(0.2))\n",
    "NN_model.add(Dense(64, kernel_initializer='normal',activation='relu'))\n",
    "NN_model.add(BatchNormalization())\n",
    "NN_model.add(Dropout(0.2))\n",
    "NN_model.add(Dense(1, kernel_initializer='normal', activation='relu'))\n",
    "\n",
    "# Compile the network :\n",
    "NN_model.compile(loss='mean_absolute_error', optimizer='adam', metrics=['mean_absolute_error'])\n",
    "NN_model.summary()"
   ]
  },
  {
   "cell_type": "code",
   "execution_count": 46,
   "metadata": {
    "collapsed": true
   },
   "outputs": [
    {
     "name": "stdout",
     "output_type": "stream",
     "text": [
      "Train on 60386 samples, validate on 15097 samples\n",
      "Epoch 1/50\n",
      "60386/60386 [==============================] - 16s 272us/step - loss: 45.9380 - mean_absolute_error: 45.9380 - val_loss: 619.3739 - val_mean_absolute_error: 619.3739\n",
      "Epoch 2/50\n",
      "60386/60386 [==============================] - 4s 70us/step - loss: 42.9346 - mean_absolute_error: 42.9346 - val_loss: 42.1451 - val_mean_absolute_error: 42.1451\n",
      "Epoch 3/50\n",
      "60386/60386 [==============================] - 5s 89us/step - loss: 42.4937 - mean_absolute_error: 42.4937 - val_loss: 47.0539 - val_mean_absolute_error: 47.0539\n",
      "Epoch 4/50\n",
      "60386/60386 [==============================] - 5s 76us/step - loss: 42.2970 - mean_absolute_error: 42.2970 - val_loss: 168.3640 - val_mean_absolute_error: 168.3640\n",
      "Epoch 5/50\n",
      "60386/60386 [==============================] - 4s 73us/step - loss: 42.1908 - mean_absolute_error: 42.1908 - val_loss: 383.7899 - val_mean_absolute_error: 383.789942.0543 \n",
      "Epoch 6/50\n",
      "60386/60386 [==============================] - 5s 89us/step - loss: 42.1330 - mean_absolute_error: 42.1330 - val_loss: 262.8244 - val_mean_absolute_error: 262.8244\n",
      "Epoch 7/50\n",
      "60386/60386 [==============================] - 3s 57us/step - loss: 42.0763 - mean_absolute_error: 42.0763 - val_loss: 47.0539 - val_mean_absolute_error: 47.0539\n",
      "Epoch 8/50\n",
      "60386/60386 [==============================] - 4s 59us/step - loss: 42.0229 - mean_absolute_error: 42.0229 - val_loss: 47.0539 - val_mean_absolute_error: 47.0539\n",
      "Epoch 9/50\n",
      "60386/60386 [==============================] - 3s 51us/step - loss: 41.9797 - mean_absolute_error: 41.9797 - val_loss: 41.7040 - val_mean_absolute_error: 41.7040\n",
      "Epoch 10/50\n",
      "60386/60386 [==============================] - 3s 52us/step - loss: 41.9474 - mean_absolute_error: 41.9474 - val_loss: 488.3701 - val_mean_absolute_error: 488.3701\n",
      "Epoch 11/50\n",
      "60386/60386 [==============================] - 4s 61us/step - loss: 41.9031 - mean_absolute_error: 41.9031 - val_loss: 47.0539 - val_mean_absolute_error: 47.0539\n",
      "Epoch 12/50\n",
      "60386/60386 [==============================] - 3s 56us/step - loss: 41.8662 - mean_absolute_error: 41.8662 - val_loss: 47.0539 - val_mean_absolute_error: 47.0539\n",
      "Epoch 13/50\n",
      "60386/60386 [==============================] - 3s 52us/step - loss: 41.9034 - mean_absolute_error: 41.9034 - val_loss: 75.5748 - val_mean_absolute_error: 75.5748\n",
      "Epoch 14/50\n",
      "60386/60386 [==============================] - 3s 51us/step - loss: 41.8550 - mean_absolute_error: 41.8550 - val_loss: 47.0080 - val_mean_absolute_error: 47.0080\n",
      "Epoch 15/50\n",
      "60386/60386 [==============================] - 3s 54us/step - loss: 41.8457 - mean_absolute_error: 41.8457 - val_loss: 47.0539 - val_mean_absolute_error: 47.0539\n",
      "Epoch 16/50\n",
      "60386/60386 [==============================] - 4s 63us/step - loss: 41.8180 - mean_absolute_error: 41.8180 - val_loss: 46.7266 - val_mean_absolute_error: 46.7266\n",
      "Epoch 17/50\n",
      "60386/60386 [==============================] - 4s 65us/step - loss: 41.7882 - mean_absolute_error: 41.7882 - val_loss: 47.0539 - val_mean_absolute_error: 47.0539\n",
      "Epoch 18/50\n",
      "60386/60386 [==============================] - 4s 74us/step - loss: 41.7822 - mean_absolute_error: 41.7822 - val_loss: 60.1886 - val_mean_absolute_error: 60.1886\n",
      "Epoch 19/50\n",
      "60386/60386 [==============================] - 5s 85us/step - loss: 41.7602 - mean_absolute_error: 41.7602 - val_loss: 47.0539 - val_mean_absolute_error: 47.0539\n",
      "Epoch 20/50\n",
      "60386/60386 [==============================] - 5s 88us/step - loss: 41.7150 - mean_absolute_error: 41.7150 - val_loss: 46.7138 - val_mean_absolute_error: 46.7138\n",
      "Epoch 21/50\n",
      "60386/60386 [==============================] - 4s 71us/step - loss: 41.7009 - mean_absolute_error: 41.7009 - val_loss: 46.2310 - val_mean_absolute_error: 46.2310\n",
      "Epoch 22/50\n",
      "60386/60386 [==============================] - 5s 81us/step - loss: 41.7167 - mean_absolute_error: 41.7167 - val_loss: 47.0530 - val_mean_absolute_error: 47.0530\n",
      "Epoch 23/50\n",
      "60386/60386 [==============================] - 6s 94us/step - loss: 41.7429 - mean_absolute_error: 41.7429 - val_loss: 47.0539 - val_mean_absolute_error: 47.0539\n",
      "Epoch 24/50\n",
      "60386/60386 [==============================] - 4s 74us/step - loss: 41.7099 - mean_absolute_error: 41.7099 - val_loss: 47.0505 - val_mean_absolute_error: 47.0505\n",
      "Epoch 25/50\n",
      "60386/60386 [==============================] - 4s 73us/step - loss: 41.6754 - mean_absolute_error: 41.6754 - val_loss: 47.0539 - val_mean_absolute_error: 47.0539\n",
      "Epoch 26/50\n",
      "60386/60386 [==============================] - 6s 101us/step - loss: 41.7030 - mean_absolute_error: 41.7030 - val_loss: 274.9102 - val_mean_absolute_error: 274.9102\n",
      "Epoch 27/50\n",
      "60386/60386 [==============================] - 5s 75us/step - loss: 41.6657 - mean_absolute_error: 41.6657 - val_loss: 42.1823 - val_mean_absolute_error: 42.1823ean_absol\n",
      "Epoch 28/50\n",
      "60386/60386 [==============================] - 4s 72us/step - loss: 41.7031 - mean_absolute_error: 41.7031 - val_loss: 44.7528 - val_mean_absolute_error: 44.7528\n",
      "Epoch 29/50\n",
      "60386/60386 [==============================] - 5s 90us/step - loss: 41.6311 - mean_absolute_error: 41.6311 - val_loss: 45.5635 - val_mean_absolute_error: 45.5635\n",
      "Epoch 30/50\n",
      "60386/60386 [==============================] - 5s 78us/step - loss: 41.6657 - mean_absolute_error: 41.6657 - val_loss: 46.8808 - val_mean_absolute_error: 46.8808\n",
      "Epoch 31/50\n",
      "60386/60386 [==============================] - 4s 74us/step - loss: 41.6202 - mean_absolute_error: 41.6202 - val_loss: 47.0539 - val_mean_absolute_error: 47.0539\n",
      "Epoch 32/50\n",
      "60386/60386 [==============================] - 5s 82us/step - loss: 41.6588 - mean_absolute_error: 41.6588 - val_loss: 47.0539 - val_mean_absolute_error: 47.0539\n",
      "Epoch 33/50\n",
      "60386/60386 [==============================] - 6s 93us/step - loss: 41.6182 - mean_absolute_error: 41.6182 - val_loss: 46.9666 - val_mean_absolute_error: 46.9666\n",
      "Epoch 34/50\n",
      "60386/60386 [==============================] - 4s 72us/step - loss: 41.6081 - mean_absolute_error: 41.6081 - val_loss: 47.0539 - val_mean_absolute_error: 47.0539\n",
      "Epoch 35/50\n",
      "60386/60386 [==============================] - 5s 76us/step - loss: 41.6042 - mean_absolute_error: 41.6042 - val_loss: 230.2050 - val_mean_absolute_error: 230.2050\n",
      "Epoch 36/50\n",
      "60386/60386 [==============================] - 6s 102us/step - loss: 41.6210 - mean_absolute_error: 41.6210 - val_loss: 47.1156 - val_mean_absolute_error: 47.1156\n",
      "Epoch 37/50\n",
      "60386/60386 [==============================] - 5s 78us/step - loss: 41.6210 - mean_absolute_error: 41.6210 - val_loss: 47.0539 - val_mean_absolute_error: 47.0539\n",
      "Epoch 38/50\n",
      "60386/60386 [==============================] - 5s 87us/step - loss: 41.6329 - mean_absolute_error: 41.6329 - val_loss: 62.9193 - val_mean_absolute_error: 62.9193\n",
      "Epoch 39/50\n",
      "60386/60386 [==============================] - 6s 101us/step - loss: 41.6072 - mean_absolute_error: 41.6072 - val_loss: 47.1333 - val_mean_absolute_error: 47.1333\n",
      "Epoch 40/50\n",
      "60386/60386 [==============================] - 5s 80us/step - loss: 41.6033 - mean_absolute_error: 41.6033 - val_loss: 47.0539 - val_mean_absolute_error: 47.0539\n",
      "Epoch 41/50\n",
      "60386/60386 [==============================] - 5s 80us/step - loss: 41.6028 - mean_absolute_error: 41.6028 - val_loss: 55.1356 - val_mean_absolute_error: 55.1356\n",
      "Epoch 42/50\n",
      "60386/60386 [==============================] - 6s 101us/step - loss: 41.5657 - mean_absolute_error: 41.5657 - val_loss: 47.1739 - val_mean_absolute_error: 47.1739\n",
      "Epoch 43/50\n",
      "60386/60386 [==============================] - 5s 80us/step - loss: 41.6019 - mean_absolute_error: 41.6019 - val_loss: 47.0472 - val_mean_absolute_error: 47.0472\n",
      "Epoch 44/50\n",
      "60386/60386 [==============================] - 5s 78us/step - loss: 41.5912 - mean_absolute_error: 41.5912 - val_loss: 210.8950 - val_mean_absolute_error: 210.8950\n",
      "Epoch 45/50\n",
      "60386/60386 [==============================] - 6s 102us/step - loss: 41.6000 - mean_absolute_error: 41.6000 - val_loss: 387.4377 - val_mean_absolute_error: 387.4377\n",
      "Epoch 46/50\n",
      "60386/60386 [==============================] - 5s 78us/step - loss: 41.5633 - mean_absolute_error: 41.5633 - val_loss: 47.0539 - val_mean_absolute_error: 47.0539: 3s - loss: 40.8323 - mean_absolute_error: 40.83\n",
      "Epoch 47/50\n"
     ]
    },
    {
     "name": "stdout",
     "output_type": "stream",
     "text": [
      "60386/60386 [==============================] - 4s 60us/step - loss: 41.5897 - mean_absolute_error: 41.5897 - val_loss: 47.0539 - val_mean_absolute_error: 47.0539\n",
      "Epoch 48/50\n",
      "60386/60386 [==============================] - 4s 69us/step - loss: 41.5604 - mean_absolute_error: 41.5604 - val_loss: 47.0539 - val_mean_absolute_error: 47.0539\n",
      "Epoch 49/50\n",
      "60386/60386 [==============================] - 4s 65us/step - loss: 41.5706 - mean_absolute_error: 41.5706 - val_loss: 43.2700 - val_mean_absolute_error: 43.2700\n",
      "Epoch 50/50\n",
      "60386/60386 [==============================] - 4s 61us/step - loss: 41.5382 - mean_absolute_error: 41.5382 - val_loss: 234.8794 - val_mean_absolute_error: 234.8794\n"
     ]
    },
    {
     "data": {
      "text/plain": [
       "<keras.callbacks.History at 0x1dc6171d080>"
      ]
     },
     "execution_count": 46,
     "metadata": {},
     "output_type": "execute_result"
    }
   ],
   "source": [
    "NN_model.fit(x_train, y_train, epochs=50, batch_size=256, validation_split = 0.2)"
   ]
  },
  {
   "cell_type": "code",
   "execution_count": 47,
   "metadata": {},
   "outputs": [
    {
     "name": "stdout",
     "output_type": "stream",
     "text": [
      "32350/32350 [==============================] - 3s 80us/step\n"
     ]
    },
    {
     "data": {
      "text/plain": [
       "[234.55971640255206, 234.55971640255206]"
      ]
     },
     "execution_count": 47,
     "metadata": {},
     "output_type": "execute_result"
    }
   ],
   "source": [
    "NN_model.evaluate(x_test, y_test)"
   ]
  },
  {
   "cell_type": "code",
   "execution_count": null,
   "metadata": {},
   "outputs": [],
   "source": []
  }
 ],
 "metadata": {
  "kernelspec": {
   "display_name": "Python 3",
   "language": "python",
   "name": "python3"
  },
  "language_info": {
   "codemirror_mode": {
    "name": "ipython",
    "version": 3
   },
   "file_extension": ".py",
   "mimetype": "text/x-python",
   "name": "python",
   "nbconvert_exporter": "python",
   "pygments_lexer": "ipython3",
   "version": "3.6.9"
  }
 },
 "nbformat": 4,
 "nbformat_minor": 2
}
